{
 "cells": [
  {
   "cell_type": "code",
   "execution_count": 10,
   "id": "4e5f21c4",
   "metadata": {},
   "outputs": [],
   "source": [
    "import pandas as pd\n",
    "from sklearn.ensemble import GradientBoostingClassifier\n",
    "from sklearn.model_selection import train_test_split\n",
    "from sklearn.metrics import classification_report, confusion_matrix, roc_auc_score,accuracy_score\n",
    "from sklearn.utils.class_weight import compute_sample_weight\n",
    "from imblearn.under_sampling import RandomUnderSampler"
   ]
  },
  {
   "cell_type": "code",
   "execution_count": 11,
   "id": "4074d5a9",
   "metadata": {},
   "outputs": [
    {
     "name": "stdout",
     "output_type": "stream",
     "text": [
      "0         0\n",
      "1         0\n",
      "2         0\n",
      "3         0\n",
      "4         0\n",
      "         ..\n",
      "119417    1\n",
      "119418    1\n",
      "119419    1\n",
      "119420    1\n",
      "119421    1\n",
      "Name: label, Length: 119422, dtype: int64\n"
     ]
    }
   ],
   "source": [
    "# 1. Load dataset\n",
    "df = pd.read_csv(\"../PreProcessing/preprocessed_data.csv\")\n",
    "\n",
    "df0 = df[df[\"label\"] == 0]\n",
    "df1 = df[df[\"label\"] == 1]\n",
    "\n",
    "df0 = df0.sample(df1.shape[0])\n",
    "\n",
    "df = pd.concat([df0, df1], ignore_index=True)\n",
    "\n",
    "X = df.drop(columns=\"label\")\n",
    "y = df[\"label\"]\n",
    "\n",
    "print(y)\n",
    "# 2. Train/test split\n",
    "X_train, X_test, y_train, y_test = train_test_split(\n",
    "    X, y, test_size=0.3, random_state=42, stratify=y\n",
    ")"
   ]
  },
  {
   "cell_type": "code",
   "execution_count": null,
   "id": "c13452c0",
   "metadata": {},
   "outputs": [],
   "source": [
    "# 3. Compute sample weights to handle class imbalance\n",
    "\n",
    "# 4. Create and train the Gradient Boosted Classifier\n",
    "model = GradientBoostingClassifier(\n",
    "    n_estimators=100,\n",
    "    learning_rate=0.1,\n",
    "    max_depth=3,\n",
    "    random_state=42\n",
    ")\n",
    "model.fit(X_train, y_train)"
   ]
  },
  {
   "cell_type": "code",
   "execution_count": null,
   "id": "ba990f4e",
   "metadata": {},
   "outputs": [
    {
     "name": "stdout",
     "output_type": "stream",
     "text": [
      "Confusion Matrix:\n",
      " [[218731 193276]\n",
      " [  1376  16537]]\n",
      "\n",
      "Classification Report:\n",
      "               precision    recall  f1-score   support\n",
      "\n",
      "           0       0.99      0.53      0.69    412007\n",
      "           1       0.08      0.92      0.15     17913\n",
      "\n",
      "    accuracy                           0.55    429920\n",
      "   macro avg       0.54      0.73      0.42    429920\n",
      "weighted avg       0.96      0.55      0.67    429920\n",
      "\n",
      "ROC-AUC Score: 0.7787699443965551\n",
      "Accuracy: 0.5472366951991068\n"
     ]
    }
   ],
   "source": [
    "# 5. Make predictions\n",
    "y_pred = model.predict(X_test)\n",
    "y_proba = model.predict_proba(X_test)[:, 1]  # probability for positive class\n",
    "\n",
    "# 6. Evaluatef\n",
    "print(\"Confusion Matrix:\\n\", confusion_matrix(y_test, y_pred))\n",
    "print(\"\\nClassification Report:\\n\", classification_report(y_test, y_pred))\n",
    "print(\"ROC-AUC Score:\", roc_auc_score(y_test, y_proba))\n",
    "\n",
    "print(\"Accuracy:\", accuracy_score(y_test, y_pred))"
   ]
  }
 ],
 "metadata": {
  "kernelspec": {
   "display_name": "Python 3",
   "language": "python",
   "name": "python3"
  },
  "language_info": {
   "codemirror_mode": {
    "name": "ipython",
    "version": 3
   },
   "file_extension": ".py",
   "mimetype": "text/x-python",
   "name": "python",
   "nbconvert_exporter": "python",
   "pygments_lexer": "ipython3",
   "version": "3.11.0"
  }
 },
 "nbformat": 4,
 "nbformat_minor": 5
}
