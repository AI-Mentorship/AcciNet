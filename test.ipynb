{
 "cells": [
  {
   "cell_type": "code",
   "execution_count": null,
   "id": "ed36cd89",
   "metadata": {},
   "outputs": [
    {
     "name": "stdout",
     "output_type": "stream",
     "text": [
      "LINESTRING (-96.8028426 32.7929565, -96.802858 32.7929641, -96.8029269 32.7930011, -96.8031141 32.7930747, -96.8032801 32.7931242, -96.8034491 32.7931591, -96.8035914 32.7931772, -96.8037143 32.7931846, -96.8038444 32.7931875, -96.804108 32.793182, -96.8042975 32.7931679, -96.8044899 32.7931467, -96.8049601 32.7931032, -96.8049895 32.7931005, -96.805106 32.7930841)\n",
      "POINT (705657.1283582032 3630489.740162784)\n",
      "[(705748.3378018362, 3630471.721630138), (705746.8778935478, 3630472.5344247203), (705740.3393224659, 3630476.5032743705), (705722.6362175918, 3630484.3004953247), (705706.9742955822, 3630489.4665412297), (705691.0650388564, 3630493.0077747316), (705677.6952641113, 3630494.738022497), (705666.1671802662, 3630495.3195036873), (705653.9750981494, 3630495.3879849524), (705629.2985106877, 3630494.2653181795), (705611.5820659602, 3630492.3331763144), (705593.610345219, 3630489.6081052534), (705549.670688974, 3630483.8700296218), (705546.9232452828, 3630483.51346134), (705536.0493876932, 3630481.4683489045)]\n",
      "13\n",
      "110.3808802495243\n"
     ]
    }
   ],
   "source": [
    "import osmnx as ox\n",
    "import math\n",
    "from shapely.ops import transform\n",
    "from shapely.geometry import Point\n",
    "import pyproj\n",
    "\n",
    "point = (32.793136, -96.803812)\n",
    "\n",
    "projectedPoint, _ = ox.projection.project_geometry(Point(point[1], point[0]))\n",
    "\n",
    "G = ox.graph_from_point(point, dist=300, network_type=\"drive\")\n",
    "u, v, k = ox.distance.nearest_edges(G, X=point[1], Y=point[0])\n",
    "edge = G.edges[u, v, k]\n",
    "\n",
    "lanes = edge.get(\"lanes\")\n",
    "\n",
    "width = edge.get(\"width\")\n",
    "\n",
    "geom = edge.get(\"geometry\")\n",
    "\n",
    "print(geom)\n",
    "\n",
    "if(geom):\n",
    "    # first, get the closest segment\n",
    "    geom_m, _ = ox.projection.project_geometry(geom)\n",
    "    coords = list(geom_m.coords)\n",
    "\n",
    "    print(projectedPoint)\n",
    "\n",
    "    print(coords)\n",
    "    bestIndex = 0\n",
    "    totalDist = float(\"inf\")\n",
    "    for i in range(len(coords)-1):\n",
    "        current = coords[i]\n",
    "        currentDist = ((current[0]-projectedPoint.x)**2 + (current[1]-projectedPoint.y)**2)**0.5\n",
    "        if(currentDist < totalDist):\n",
    "            bestIndex = i\n",
    "            totalDist = currentDist\n",
    "    print(i)\n",
    "    print(currentDist)\n",
    "\n",
    "    # if geom:\n",
    "    #     # compute curvature as total turning angle / length\n",
    "    #     coords = list(geom.coords)\n",
    "\n",
    "    #     print(coords)\n",
    "\n",
    "    #     total_angle = 0\n",
    "    #     for i in range(1, len(coords)-1):\n",
    "    #         a, b, c = coords[i-1], coords[i], coords[i+1]\n",
    "    #         def bearing(p1, p2):\n",
    "    #             return math.atan2(p2[1]-p1[1], p2[0]-p1[0])\n",
    "    #         ang1 = bearing(a, b)\n",
    "    #         ang2 = bearing(b, c)\n",
    "    #         total_angle += abs(ang2 - ang1)\n",
    "    #     curvature = total_angle / geom_m.length\n",
    "    # else:\n",
    "    #     curvature = None\n",
    "\n",
    "# print(\"Curvature (radians per meter):\", curvature)\n",
    "\n",
    "# print(\"Lanes:\", lanes)\n",
    "# print(\"Width (meters):\", width)"
   ]
  }
 ],
 "metadata": {
  "kernelspec": {
   "display_name": "Python 3",
   "language": "python",
   "name": "python3"
  },
  "language_info": {
   "codemirror_mode": {
    "name": "ipython",
    "version": 3
   },
   "file_extension": ".py",
   "mimetype": "text/x-python",
   "name": "python",
   "nbconvert_exporter": "python",
   "pygments_lexer": "ipython3",
   "version": "3.11.0"
  }
 },
 "nbformat": 4,
 "nbformat_minor": 5
}
