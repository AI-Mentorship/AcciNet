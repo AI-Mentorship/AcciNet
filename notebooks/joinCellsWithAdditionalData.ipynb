{
 "cells": [
  {
   "cell_type": "code",
   "execution_count": 1,
   "id": "b4bdb3da",
   "metadata": {},
   "outputs": [
    {
     "name": "stdout",
     "output_type": "stream",
     "text": [
      "With and without lane count, we have: 41632 crashes\n",
      "With only lane count, we have: 33649 crashes\n"
     ]
    }
   ],
   "source": [
    "# I think it doesn't really amtter if i implement it in the new file or this one, so I might as well just make a separate one to do it again, even if it's a bit inefficient\n",
    "import ast\n",
    "import pandas as pd\n",
    "\n",
    "# read the two files we're gonna merge\n",
    "preProcessedFile = pd.read_csv(\"../data/final/preprocessed_data.csv\")\n",
    "apiFile = pd.read_csv(\"../data/processed/crash_street_api_features.csv\")\n",
    "\n",
    "apiFile.drop(columns={\"maxspeed\", \"road_type\"}, inplace=True)\n",
    "\n",
    "print(f\"With and without lane count, we have: {apiFile.shape[0]} crashes\")\n",
    "\n",
    "apiFile = apiFile.dropna(subset=[\"lane_count\"])\n",
    "\n",
    "apiFile.fillna(0, inplace=True)\n",
    "\n",
    "print(f\"With only lane count, we have: {apiFile.shape[0]} crashes\")\n",
    "\n",
    "for index, crash in apiFile.iterrows():\n",
    "    try:\n",
    "        apiFile.at[index, \"lane_count\"] = int(crash[\"lane_count\"])\n",
    "    except:\n",
    "        laneCount = ast.literal_eval(crash[\"lane_count\"])\n",
    "        laneCount = int(laneCount[0]) + int(laneCount[1])\n",
    "        apiFile.at[index, \"lane_count\"] = laneCount\n",
    "\n",
    "finalRow = pd.merge(preProcessedFile, apiFile, on=[\"Latitude\", \"Longitude\"], how=\"inner\")\n",
    "\n",
    "labels = finalRow.pop(\"label\")\n",
    "finalRow.insert(finalRow.shape[1], column=\"label\", value=labels)\n",
    "\n",
    "finalRow.to_csv(\"../data/final/true_preprocessed_data.csv\")"
   ]
  }
 ],
 "metadata": {
  "kernelspec": {
   "display_name": "Python 3",
   "language": "python",
   "name": "python3"
  },
  "language_info": {
   "codemirror_mode": {
    "name": "ipython",
    "version": 3
   },
   "file_extension": ".py",
   "mimetype": "text/x-python",
   "name": "python",
   "nbconvert_exporter": "python",
   "pygments_lexer": "ipython3",
   "version": "3.11.0"
  }
 },
 "nbformat": 4,
 "nbformat_minor": 5
}
