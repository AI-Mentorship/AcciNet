{
 "cells": [
  {
   "cell_type": "code",
   "execution_count": 1,
   "id": "83e0fca1",
   "metadata": {},
   "outputs": [
    {
     "name": "stderr",
     "output_type": "stream",
     "text": [
      "C:\\Users\\mahd\\AppData\\Local\\Temp\\ipykernel_26016\\1279006926.py:3: DtypeWarning: Columns (19,34,44,46,80,84,91,154) have mixed types. Specify dtype option on import or set low_memory=False.\n",
      "  df = pd.read_csv(\"../data/processed/crash_data2022-2025.csv\", header=0)\n"
     ]
    }
   ],
   "source": [
    "import pandas as pd\n",
    "\n",
    "df = pd.read_csv(\"../data/processed/crash_data2022-2025.csv\", header=0)"
   ]
  },
  {
   "cell_type": "code",
   "execution_count": 2,
   "id": "47d6d6bd",
   "metadata": {},
   "outputs": [
    {
     "name": "stdout",
     "output_type": "stream",
     "text": [
      "Rows before removing empty lat/long is 3036007\n"
     ]
    }
   ],
   "source": [
    "print(f\"Rows before removing empty lat/long is {df.shape[0]}\")"
   ]
  },
  {
   "cell_type": "code",
   "execution_count": 3,
   "id": "a75ef015",
   "metadata": {},
   "outputs": [],
   "source": [
    "df.dropna(subset=[\"Latitude\", \"Longitude\"], inplace=True)"
   ]
  },
  {
   "cell_type": "code",
   "execution_count": 4,
   "id": "43b7b568",
   "metadata": {},
   "outputs": [
    {
     "name": "stdout",
     "output_type": "stream",
     "text": [
      "Rows after removing empty lat/long is 2768164\n"
     ]
    }
   ],
   "source": [
    "print(f\"Rows after removing empty lat/long is {df.shape[0]}\")"
   ]
  },
  {
   "cell_type": "code",
   "execution_count": 5,
   "id": "401a7b7d",
   "metadata": {},
   "outputs": [],
   "source": [
    "keptCols = [\n",
    "    \"Crash_Date\",\n",
    "    \"Crash_Time\",\n",
    "    \"Crash_Speed_Limit\",\n",
    "    \"Road_Constr_Zone_Fl\",\n",
    "    \"At_Intrsct_Fl\",\n",
    "    \"Wthr_Cond_ID\",\n",
    "    \"Light_Cond_ID\",\n",
    "    \"Latitude\",\n",
    "    \"Longitude\",\n",
    "    \"Rural_Fl\",\n",
    "    \"Day_of_Week\",\n",
    "    \"Nbr_Of_Lane\",\n",
    "    \"Adt_Adj_Curnt_Amt\",\n",
    "    # \"Road_Type_ID\"\n",
    "]\n",
    "df = df[keptCols]"
   ]
  },
  {
   "cell_type": "code",
   "execution_count": 6,
   "id": "06100129",
   "metadata": {},
   "outputs": [
    {
     "name": "stdout",
     "output_type": "stream",
     "text": [
      "Rows after filtering is 1526311\n"
     ]
    }
   ],
   "source": [
    "df.dropna(inplace= True)\n",
    "\n",
    "print(f\"Rows after filtering is {df.shape[0]}\")"
   ]
  },
  {
   "cell_type": "code",
   "execution_count": 7,
   "id": "8ca6dd3d",
   "metadata": {},
   "outputs": [],
   "source": [
    "df.to_csv(\"../data/processed/PotentialCSV.csv\", index=False, header=True)"
   ]
  }
 ],
 "metadata": {
  "kernelspec": {
   "display_name": "Python 3",
   "language": "python",
   "name": "python3"
  },
  "language_info": {
   "codemirror_mode": {
    "name": "ipython",
    "version": 3
   },
   "file_extension": ".py",
   "mimetype": "text/x-python",
   "name": "python",
   "nbconvert_exporter": "python",
   "pygments_lexer": "ipython3",
   "version": "3.11.0"
  }
 },
 "nbformat": 4,
 "nbformat_minor": 5
}
