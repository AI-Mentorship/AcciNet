{
 "cells": [
  {
   "cell_type": "markdown",
   "id": "5e88eab0",
   "metadata": {},
   "source": [
    "Import Libraries"
   ]
  },
  {
   "cell_type": "code",
   "execution_count": null,
   "id": "39520fa4",
   "metadata": {},
   "outputs": [],
   "source": [
    "import pandas as pd\n",
    "import lightgbm as lgb\n",
    "import math\n",
    "from sklearn.utils import shuffle\n",
    "from sklearn.model_selection import train_test_split, RandomizedSearchCV\n",
    "from sklearn.metrics import roc_auc_score, log_loss, classification_report, confusion_matrix"
   ]
  },
  {
   "cell_type": "markdown",
   "id": "ee83e88f",
   "metadata": {},
   "source": [
    "Load Data"
   ]
  },
  {
   "cell_type": "code",
   "execution_count": null,
   "id": "fafd77bf",
   "metadata": {},
   "outputs": [],
   "source": [
    "df = pd.read_csv(\"preprocessed_data.csv\")"
   ]
  },
  {
   "cell_type": "markdown",
   "id": "790d8bee",
   "metadata": {},
   "source": [
    "Drop Latitude and Longitude"
   ]
  },
  {
   "cell_type": "code",
   "execution_count": null,
   "id": "eaea6a53",
   "metadata": {},
   "outputs": [],
   "source": [
    "df = df.drop(columns=[\"Latitude\", \"Longitude\"])\n",
    "df_0 = df[df[\"label\"] == 0]\n",
    "df_1 = df[df[\"label\"] == 1]\n",
    "df = pd.concat([df_0.sample(n=math.floor(len(df_1)*1.0), random_state=42), df_1], axis=0)\n",
    "df = shuffle(df, random_state=42)"
   ]
  },
  {
   "cell_type": "markdown",
   "id": "5bcda6db",
   "metadata": {},
   "source": [
    "Seperate Features and Labels"
   ]
  },
  {
   "cell_type": "code",
   "execution_count": null,
   "id": "ea80c9c2",
   "metadata": {},
   "outputs": [],
   "source": [
    "X = df.drop(columns=[\"label\"])\n",
    "y = df[\"label\"]"
   ]
  },
  {
   "cell_type": "markdown",
   "id": "9e8e10eb",
   "metadata": {},
   "source": [
    "Train/Test Split"
   ]
  },
  {
   "cell_type": "code",
   "execution_count": null,
   "id": "caf56e9b",
   "metadata": {},
   "outputs": [],
   "source": [
    "X_train, X_test, y_train, y_test = train_test_split(\n",
    "    X, y, test_size=0.2, random_state=42, stratify=y\n",
    ")"
   ]
  },
  {
   "cell_type": "markdown",
   "id": "bd344f2f",
   "metadata": {},
   "source": [
    "Runs the Model on Training Data"
   ]
  },
  {
   "cell_type": "code",
   "execution_count": null,
   "id": "64e4f735",
   "metadata": {},
   "outputs": [],
   "source": [
    "model = lgb.LGBMClassifier(\n",
    "    # Objective and task parameters\n",
    "    objective=\"binary\",\n",
    "    metric=\"binary_logloss\",  \n",
    "    # metric=\"auc\",\n",
    "    boosting_type=\"gbdt\",\n",
    "    \n",
    "    # Tree structure parameters\n",
    "    max_depth=-1,\n",
    "    \n",
    "    # Learning parameters\n",
    "    learning_rate=0.1,\n",
    "    n_estimators=100,\n",
    "    \n",
    "    \n",
    "    # Class imbalance handling\n",
    "    # scale_pos_weight=(y_train == 0).sum() / (y_train == 1).sum(),\n",
    "    # scale_pos_weight=1.5,\n",
    "    #is_unbalance=True,\n",
    "    \n",
    "    # Other parameters\n",
    "    random_state=42,\n",
    "    n_jobs=-1,\n",
    "    verbose=1,\n",
    "    importance_type=\"gain\"\n",
    ")\n",
    "\n",
    "model.fit(\n",
    "    X_train,\n",
    "    y_train,\n",
    "    eval_set=[(X_test, y_test)],\n",
    "    eval_metric='binary_logloss',\n",
    "    # eval_metric='auc',\n",
    ")"
   ]
  },
  {
   "cell_type": "markdown",
   "id": "6f825b0a",
   "metadata": {},
   "source": [
    "Model Evaluation and Scoring"
   ]
  },
  {
   "cell_type": "code",
   "execution_count": null,
   "id": "398c7f6d",
   "metadata": {},
   "outputs": [],
   "source": [
    "y_pred_proba = model.predict_proba(X_test)[:, 1]\n",
    "y_pred_class = model.predict(X_test)\n",
    "\n",
    "auc = roc_auc_score(y_test, y_pred_proba)\n",
    "logloss = log_loss(y_test, y_pred_proba)\n",
    "\n",
    "print(f\"Test ROC-AUC: {auc:.4f}\")\n",
    "print(f\"Test Log Loss: {logloss:.4f}\")\n",
    "print(f\"\\nClass distribution in test set:\")\n",
    "print(y_test.value_counts(normalize=True))\n",
    "print(f\"\\nConfusion Matrix:\")\n",
    "print(confusion_matrix(y_test, y_pred_class))\n",
    "print(f\"\\nClassification Report:\")\n",
    "print(classification_report(y_test, y_pred_class))\n",
    "\n",
    "# Feature Importance Analysis\n",
    "# feature_importance = pd.DataFrame({\n",
    "#     'feature': X_train.columns,\n",
    "#     'importance': model.feature_importances_\n",
    "# }).sort_values('importance', ascending=False)\n",
    "\n",
    "# print(\"\\nTop 20 Most Important Features:\")\n",
    "# print(feature_importance.head(20).to_string(index=False))\n",
    "\n",
    "# print(f\"\\nTotal features: {len(feature_importance)}\")\n",
    "# print(f\"Features with zero importance: {(feature_importance['importance'] == 0).sum()}\")"
   ]
  }
 ],
 "metadata": {
  "kernelspec": {
   "display_name": "Python 3",
   "language": "python",
   "name": "python3"
  },
  "language_info": {
   "codemirror_mode": {
    "name": "ipython",
    "version": 3
   },
   "file_extension": ".py",
   "mimetype": "text/x-python",
   "name": "python",
   "nbconvert_exporter": "python",
   "pygments_lexer": "ipython3",
   "version": "3.13.3"
  }
 },
 "nbformat": 4,
 "nbformat_minor": 5
}
