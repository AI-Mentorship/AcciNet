{
 "cells": [
  {
   "cell_type": "code",
   "execution_count": 1,
   "id": "2b3ce11c",
   "metadata": {},
   "outputs": [],
   "source": [
    "import numpy as np\n",
    "import pandas as pd\n",
    "import geopandas as gpd\n",
    "from shapely import Polygon, box\n",
    "from concurrent.futures import ProcessPoolExecutor, as_completed\n",
    "from mapToCells import processCell"
   ]
  },
  {
   "cell_type": "code",
   "execution_count": 2,
   "id": "4588ecd9",
   "metadata": {},
   "outputs": [],
   "source": [
    "crash_frame = pd.read_csv(\"../data/processed/encoded_data_binary_encoding.csv\")\n",
    "\n",
    "gdf = gpd.GeoDataFrame(\n",
    "    crash_frame, \n",
    "    geometry=gpd.points_from_xy(crash_frame[\"Longitude\"], crash_frame[\"Latitude\"]), \n",
    "    crs=\"EPSG:4326\"\n",
    ")\n",
    "\n",
    "# left upper bound - 33°15'08.7\"N 97°21'46.3\"W\n",
    "# right lower bound - 32°22'36.5\"N 96°07'37.0\"W\n",
    "\n",
    "#using our bounds, create the corners we'll use in our polygon\n",
    "upperLeft = (-1 * (97 + 21/60 + 46.3/3600), 33 + 15/60 + 8.7/3600)\n",
    "bottomRight = (-1 * (96 + 7/60 + 37/3600), 32 + 22/60 + 36.5/3600)\n",
    "\n",
    "upperRight = (bottomRight[0], upperLeft[1])\n",
    "bottomLeft = (upperLeft[0], bottomRight[1])\n",
    "\n",
    "# create the polygon\n",
    "dallasBounds = Polygon([upperLeft, upperRight, bottomRight, bottomLeft, upperLeft])\n",
    "\n",
    "# create teh dataframe\n",
    "dallasFrame = gpd.GeoDataFrame({\"geometry\": [dallasBounds]}, crs=\"EPSG:4326\")\n",
    "\n",
    "# cahnge coordinate system of both\n",
    "dallasFrame = dallasFrame.to_crs(epsg=32614)\n",
    "gdf = gdf.to_crs(epsg=32614)\n",
    "\n",
    "cell_size = 500\n",
    "\n",
    "minx, miny, maxx, maxy = dallasFrame.total_bounds\n",
    "\n",
    "grids = []\n",
    "index = 0\n",
    "# create grids based on the bounds\n",
    "for x in np.arange(minx, maxx, cell_size):\n",
    "    for y in np.arange(miny, maxy, cell_size):\n",
    "        grids.append(box(x, y, x+cell_size, y+cell_size))\n",
    "\n",
    "# 2. Optional: intersect with Dallas boundary to crop\n",
    "grid = gpd.GeoDataFrame({\"geometry\": grids}, crs=dallasFrame.crs)\n",
    "\n",
    "grid = gpd.overlay(grid, dallasFrame, how=\"intersection\")\n",
    "\n",
    "# combine it based on which cells are matching\n",
    "joined_data = gpd.sjoin(gdf, grid, how=\"left\", predicate=\"intersects\")"
   ]
  },
  {
   "cell_type": "code",
   "execution_count": 3,
   "id": "33b24974",
   "metadata": {},
   "outputs": [
    {
     "name": "stdout",
     "output_type": "stream",
     "text": [
      "Result: In cell 12031 we have 1 crashes! New count also is 1\n",
      "Result: In cell 12040 we have 1 crashes! New count also is 1\n",
      "Result: In cell 12225 we have 1 crashes! New count also is 0\n",
      "Result: In cell 12226 we have 4 crashes! New count also is 4\n",
      "Result: In cell 12235 we have 2 crashes! New count also is 0\n",
      "Result: In cell 12178 we have 5 crashes! New count also is 1\n",
      "Result: In cell 12230 we have 9 crashes! New count also is 1\n",
      "Result: In cell 12184 we have 13 crashes! New count also is 0\n",
      "Result: In cell 12236 we have 13 crashes! New count also is 4\n",
      "Result: In cell 12170 we have 27 crashes! New count also is 12\n",
      "Result: In cell 12188 we have 61 crashes! New count also is 0\n",
      "Result: In cell 12206 we have 82 crashes! New count also is 4\n"
     ]
    }
   ],
   "source": [
    "final_cells = []\n",
    "numWithoutData = 0\n",
    "\n",
    "if __name__ == \"__main__\":    \n",
    "    with ProcessPoolExecutor(max_workers=10) as executor:\n",
    "        # group by when they go to similar cells\n",
    "        futures = [executor.submit(processCell, crashes) for _, crashes in joined_data.groupby(\"index_right\")]\n",
    "\n",
    "        for future in as_completed(futures):\n",
    "            try:\n",
    "                result = future.result()  # will raise exception if the process failed\n",
    "                if(result[0] != \"NOT APPLICABLE\"):\n",
    "                    print(\"Result:\", result[0])\n",
    "                    final_cells.extend(result[1])\n",
    "                    numWithoutData += result[2]\n",
    "            except Exception as e:\n",
    "                print(\"Error:\", e)"
   ]
  },
  {
   "cell_type": "code",
   "execution_count": null,
   "id": "65c890a5",
   "metadata": {},
   "outputs": [
    {
     "name": "stdout",
     "output_type": "stream",
     "text": [
      "Percent of crashes without data was 0.1278538812785388\n"
     ]
    }
   ],
   "source": [
    "fileName = \"dataInRange\"\n",
    "exportedDf = pd.DataFrame(final_cells)\n",
    "\n",
    "exportedDf.drop(columns=\"Crash Date\", inplace=True)\n",
    "\n",
    "exportedDf.to_csv(\"../data/final/preprocessed_data.csv\", index=False)\n",
    "\n",
    "print(f\"Percent of crashes without data was {numWithoutData / (len(final_cells) / 24)}\")"
   ]
  }
 ],
 "metadata": {
  "kernelspec": {
   "display_name": "Python 3",
   "language": "python",
   "name": "python3"
  },
  "language_info": {
   "codemirror_mode": {
    "name": "ipython",
    "version": 3
   },
   "file_extension": ".py",
   "mimetype": "text/x-python",
   "name": "python",
   "nbconvert_exporter": "python",
   "pygments_lexer": "ipython3",
   "version": "3.11.0"
  }
 },
 "nbformat": 4,
 "nbformat_minor": 5
}
